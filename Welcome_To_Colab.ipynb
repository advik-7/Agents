{
  "cells": [
    {
      "cell_type": "markdown",
      "metadata": {
        "id": "view-in-github",
        "colab_type": "text"
      },
      "source": [
        "<a href=\"https://colab.research.google.com/github/advik-7/Agents/blob/main/Welcome_To_Colab.ipynb\" target=\"_parent\"><img src=\"https://colab.research.google.com/assets/colab-badge.svg\" alt=\"Open In Colab\"/></a>"
      ]
    },
    {
      "cell_type": "code",
      "source": [
        "import os\n",
        "email_user = os.environ.get(\"EMAIL_USER\")\n",
        "email_pass = os.environ.get(\"EMAIL_PASS\")\n"
      ],
      "metadata": {
        "id": "dqPQVXh2AJKz"
      },
      "execution_count": 12,
      "outputs": []
    },
    {
      "cell_type": "code",
      "source": [
        "import imaplib\n",
        "import email\n",
        "from email.header import decode_header\n",
        "from datetime import datetime, timedelta\n",
        "from transformers import pipeline\n",
        "import os\n",
        "\n",
        "def fetch_and_classify_emails(email_user, email_pass):\n",
        "    classifier = pipeline(\"text-classification\", model=\"mrm8488/bert-tiny-finetuned-enron-spam-detection\")\n",
        "    imap_host = \"imap.gmail.com\"\n",
        "\n",
        "    try:\n",
        "        mail = imaplib.IMAP4_SSL(imap_host)\n",
        "        mail.login(email_user, email_pass)\n",
        "        mail.select(\"inbox\")\n",
        "        date_24hrs_ago = (datetime.now() - timedelta(days=1)).strftime(\"%d-%b-%Y\")\n",
        "        status, messages = mail.search(None, f'SINCE {date_24hrs_ago}')\n",
        "        if status != \"OK\":\n",
        "            print(\"No messages found!\")\n",
        "            return\n",
        "\n",
        "        email_ids = messages[0].split()\n",
        "\n",
        "        for email_id in email_ids:\n",
        "            status, msg_data = mail.fetch(email_id, \"(RFC822)\")\n",
        "            if status != \"OK\":\n",
        "                print(f\"Failed to fetch email ID {email_id.decode()}\")\n",
        "                continue\n",
        "\n",
        "            for response_part in msg_data:\n",
        "                if isinstance(response_part, tuple):\n",
        "                    msg = email.message_from_bytes(response_part[1])\n",
        "                    subject, encoding = decode_header(msg[\"Subject\"])[0]\n",
        "                    if isinstance(subject, bytes):\n",
        "                        subject = subject.decode(encoding if encoding else \"utf-8\")\n",
        "\n",
        "                    from_ = msg.get(\"From\")\n",
        "                    body = \"\"\n",
        "                    if msg.is_multipart():\n",
        "                        for part in msg.walk():\n",
        "                            content_type = part.get_content_type()\n",
        "                            content_disposition = str(part.get(\"Content-Disposition\"))\n",
        "                            if content_type == \"text/plain\" and \"attachment\" not in content_disposition:\n",
        "                                try:\n",
        "                                    body = part.get_payload(decode=True).decode()\n",
        "                                    break\n",
        "                                except Exception as e:\n",
        "                                    print(f\"Error decoding body: {e}\")\n",
        "                    else:\n",
        "                        try:\n",
        "                            body = msg.get_payload(decode=True).decode()\n",
        "                        except Exception as e:\n",
        "                            print(f\"Error decoding body: {e}\")\n",
        "\n",
        "                    body_truncated = body[:512]\n",
        "                    classification = classifier(body_truncated)[0]\n",
        "                    label = classification['label']\n",
        "                    category = \"Spam\" if label == \"LABEL_1\" else \"Not Spam\"\n",
        "\n",
        "                    print(f\"Subject: {subject}\")\n",
        "                    print(f\"From: {from_}\")\n",
        "                    print(f\"Category: {category}\")\n",
        "                    print(\"-\" * 50)\n",
        "\n",
        "        mail.logout()\n",
        "\n",
        "    except Exception as e:\n",
        "        print(f\"An error occurred: {e}\")\n",
        "\n",
        "email_user = os.environ.get(\"EMAIL_USER\")\n",
        "email_pass = os.environ.get(\"EMAIL_PASS\")\n",
        "\n",
        "if email_user and email_pass:\n",
        "    fetch_and_classify_emails(email_user, email_pass)\n",
        "else:\n",
        "    print(\"Please set the EMAIL_USER and EMAIL_PASS environment variables.\")\n"
      ],
      "metadata": {
        "colab": {
          "base_uri": "https://localhost:8080/"
        },
        "id": "rE-bjoMGBWH1",
        "outputId": "8a7ad481-358e-447b-9c73-a2572e4da6f6"
      },
      "execution_count": 19,
      "outputs": [
        {
          "output_type": "stream",
          "name": "stdout",
          "text": [
            "Subject: Your Jeda.ai Trial is Ending - Don't Miss Our Early Bird Launch Offer!\n",
            "From: \"Captain from Jeda.ai\" <captain@jeda.ai>\n",
            "Category: Spam\n",
            "--------------------------------------------------\n",
            "Subject: 📄TSPO interacts with VDAC1 and triggers a ROS-mediated inhibition of mitochondrial quality control was mentioned\n",
            "From: Your Paper was Mentioned <premium@academia-mail.com>\n",
            "Category: Spam\n",
            "--------------------------------------------------\n",
            "Subject: The ultimate creative tool kit\n",
            "From: \"Adobe Special Offers\" <mail@mail.adobe.com>\n",
            "Category: Spam\n",
            "--------------------------------------------------\n",
            "Subject: Take your website to the next level with custom settings\n",
            "From: The HubSpot Team <thehubspotteam@hubspot.com>\n",
            "Category: Spam\n",
            "--------------------------------------------------\n",
            "Subject: AI powered website with your logo ready in seconds\n",
            "From: LOGO.com <marketing-reply@logo.com>\n",
            "Category: Spam\n",
            "--------------------------------------------------\n",
            "Subject: Black Friday Announcement…\n",
            "From: \"Maxon\" <info@news.maxon.net>\n",
            "Category: Spam\n",
            "--------------------------------------------------\n",
            "Subject: 🤖 Cyber Sale is LIVE\n",
            "From: Blender Market <support@blendermarket.com>\n",
            "Category: Not Spam\n",
            "--------------------------------------------------\n",
            "Subject: FREE Exit Limbo \n",
            "From: Indie Gala <support@indiegala.com>\n",
            "Category: Spam\n",
            "--------------------------------------------------\n",
            "Subject: Left something behind in your cart? Get 30% OFF your order now!\n",
            "From: \"wondershare\" <noreply@mail-service.wondershare.com>\n",
            "Category: Spam\n",
            "--------------------------------------------------\n",
            "Subject: FREE Exit Limbo \n",
            "From: Indie Gala <support@indiegala.com>\n",
            "Category: Spam\n",
            "--------------------------------------------------\n",
            "Subject: If I was accepted to Cornell Early Decision (ED), is there any way I can back out of ...?\n",
            "From: Quora Digest <english-personalized-digest@quora.com>\n",
            "Category: Not Spam\n",
            "--------------------------------------------------\n",
            "Subject: Black Friday Bonanza: Up to 70% OFF! 🤑\n",
            "From: \"CGTrader Team\" <digest@mailing.cgtrader.com>\n",
            "Category: Spam\n",
            "--------------------------------------------------\n",
            "Subject: You’re in—meet Claude, your new AI assistant\n",
            "From: Anthropic Team <team@email.anthropic.com>\n",
            "Category: Not Spam\n",
            "--------------------------------------------------\n",
            "Subject: Honkai Universe collaboration begins! Regular 5-star and limited\n",
            " S-rank characters await to be claimed\n",
            "From: HoYoverse <noreply.news@e-mail.hoyoverse.com>\n",
            "Category: Spam\n",
            "--------------------------------------------------\n"
          ]
        }
      ]
    },
    {
      "cell_type": "code",
      "source": [],
      "metadata": {
        "id": "SKEYK0BRFFJM"
      },
      "execution_count": null,
      "outputs": []
    }
  ],
  "metadata": {
    "colab": {
      "name": "Welcome To Colab",
      "toc_visible": true,
      "provenance": [],
      "include_colab_link": true
    },
    "kernelspec": {
      "display_name": "Python 3",
      "name": "python3"
    }
  },
  "nbformat": 4,
  "nbformat_minor": 0
}