{
  "cells": [
    {
      "cell_type": "markdown",
      "metadata": {
        "id": "view-in-github",
        "colab_type": "text"
      },
      "source": [
        "<a href=\"https://colab.research.google.com/github/advik-7/Agents/blob/main/Welcome_To_Colab.ipynb\" target=\"_parent\"><img src=\"https://colab.research.google.com/assets/colab-badge.svg\" alt=\"Open In Colab\"/></a>"
      ]
    },
    {
      "cell_type": "code",
      "source": [
        "import os\n",
        "email_user = os.environ.get(\"EMAIL_USER\")\n",
        "email_pass = os.environ.get(\"EMAIL_PASS\")\n"
      ],
      "metadata": {
        "id": "dqPQVXh2AJKz"
      },
      "execution_count": 12,
      "outputs": []
    },
    {
      "cell_type": "code",
      "source": [
        "import imaplib\n",
        "import email\n",
        "from email.header import decode_header\n",
        "from datetime import datetime, timedelta\n",
        "\n",
        "def fetch_emails_last_24_hours(email_user, email_pass):\n",
        "    imap_host = \"imap.gmail.com\"\n",
        "\n",
        "    mail = imaplib.IMAP4_SSL(imap_host)\n",
        "\n",
        "    mail.login(email_user, email_pass)\n",
        "\n",
        "    mail.select(\"inbox\")\n",
        "\n",
        "    date_24hrs_ago = (datetime.now() - timedelta(days=1)).strftime(\"%d-%b-%Y\")\n",
        "\n",
        "    status, messages = mail.search(None, f'SINCE {date_24hrs_ago}')\n",
        "    if status != \"OK\":\n",
        "        print(\"No messages found!\")\n",
        "        return\n",
        "\n",
        "    email_ids = messages[0].split()\n",
        "\n",
        "    for email_id in email_ids:\n",
        "        status, msg_data = mail.fetch(email_id, \"(RFC822)\")\n",
        "        if status != \"OK\":\n",
        "            print(f\"Failed to fetch email ID {email_id.decode()}\")\n",
        "            continue\n",
        "\n",
        "        for response_part in msg_data:\n",
        "            if isinstance(response_part, tuple):\n",
        "                msg = email.message_from_bytes(response_part[1])  # Parse the email\n",
        "                subject, encoding = decode_header(msg[\"Subject\"])[0]\n",
        "                if isinstance(subject, bytes):\n",
        "                    subject = subject.decode(encoding if encoding else \"utf-8\")\n",
        "\n",
        "                from_ = msg.get(\"From\")\n",
        "\n",
        "                print(f\"Subject: {subject}\")\n",
        "                print(f\"From: {from_}\")\n",
        "                print(\"-\" * 50)\n",
        "\n",
        "    mail.logout()\n",
        "\n",
        "fetch_emails_last_24_hours(email_user,email_pass)\n"
      ],
      "metadata": {
        "id": "rE-bjoMGBWH1",
        "outputId": "3e99a82e-bc18-4432-d708-dcb9da55cbcb",
        "colab": {
          "base_uri": "https://localhost:8080/"
        }
      },
      "execution_count": 13,
      "outputs": [
        {
          "output_type": "stream",
          "name": "stdout",
          "text": [
            "Subject: Your Jeda.ai Trial is Ending - Don't Miss Our Early Bird Launch Offer!\n",
            "From: \"Captain from Jeda.ai\" <captain@jeda.ai>\n",
            "--------------------------------------------------\n",
            "Subject: 📄TSPO interacts with VDAC1 and triggers a ROS-mediated inhibition of mitochondrial quality control was mentioned\n",
            "From: Your Paper was Mentioned <premium@academia-mail.com>\n",
            "--------------------------------------------------\n",
            "Subject: The ultimate creative tool kit\n",
            "From: \"Adobe Special Offers\" <mail@mail.adobe.com>\n",
            "--------------------------------------------------\n",
            "Subject: Take your website to the next level with custom settings\n",
            "From: The HubSpot Team <thehubspotteam@hubspot.com>\n",
            "--------------------------------------------------\n",
            "Subject: AI powered website with your logo ready in seconds\n",
            "From: LOGO.com <marketing-reply@logo.com>\n",
            "--------------------------------------------------\n",
            "Subject: Black Friday Announcement…\n",
            "From: \"Maxon\" <info@news.maxon.net>\n",
            "--------------------------------------------------\n",
            "Subject: 🤖 Cyber Sale is LIVE\n",
            "From: Blender Market <support@blendermarket.com>\n",
            "--------------------------------------------------\n",
            "Subject: FREE Exit Limbo \n",
            "From: Indie Gala <support@indiegala.com>\n",
            "--------------------------------------------------\n",
            "Subject: Left something behind in your cart? Get 30% OFF your order now!\n",
            "From: \"wondershare\" <noreply@mail-service.wondershare.com>\n",
            "--------------------------------------------------\n",
            "Subject: FREE Exit Limbo \n",
            "From: Indie Gala <support@indiegala.com>\n",
            "--------------------------------------------------\n",
            "Subject: If I was accepted to Cornell Early Decision (ED), is there any way I can back out of ...?\n",
            "From: Quora Digest <english-personalized-digest@quora.com>\n",
            "--------------------------------------------------\n",
            "Subject: Black Friday Bonanza: Up to 70% OFF! 🤑\n",
            "From: \"CGTrader Team\" <digest@mailing.cgtrader.com>\n",
            "--------------------------------------------------\n",
            "Subject: You’re in—meet Claude, your new AI assistant\n",
            "From: Anthropic Team <team@email.anthropic.com>\n",
            "--------------------------------------------------\n",
            "Subject: Honkai Universe collaboration begins! Regular 5-star and limited\n",
            " S-rank characters await to be claimed\n",
            "From: HoYoverse <noreply.news@e-mail.hoyoverse.com>\n",
            "--------------------------------------------------\n"
          ]
        }
      ]
    },
    {
      "cell_type": "code",
      "source": [],
      "metadata": {
        "id": "Vmzmn-WVC2lW"
      },
      "execution_count": null,
      "outputs": []
    }
  ],
  "metadata": {
    "colab": {
      "name": "Welcome To Colab",
      "toc_visible": true,
      "provenance": [],
      "include_colab_link": true
    },
    "kernelspec": {
      "display_name": "Python 3",
      "name": "python3"
    }
  },
  "nbformat": 4,
  "nbformat_minor": 0
}