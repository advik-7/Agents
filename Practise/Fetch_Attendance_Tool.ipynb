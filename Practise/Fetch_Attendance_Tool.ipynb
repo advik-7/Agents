{
  "nbformat": 4,
  "nbformat_minor": 0,
  "metadata": {
    "colab": {
      "provenance": [],
      "authorship_tag": "ABX9TyOEN4LkpjOu73cV2EbmyPIu",
      "include_colab_link": true
    },
    "kernelspec": {
      "name": "python3",
      "display_name": "Python 3"
    },
    "language_info": {
      "name": "python"
    }
  },
  "cells": [
    {
      "cell_type": "markdown",
      "metadata": {
        "id": "view-in-github",
        "colab_type": "text"
      },
      "source": [
        "<a href=\"https://colab.research.google.com/github/advik-7/Agents/blob/main/Fetch_Attendance_Tool.ipynb\" target=\"_parent\"><img src=\"https://colab.research.google.com/assets/colab-badge.svg\" alt=\"Open In Colab\"/></a>"
      ]
    },
    {
      "cell_type": "code",
      "source": [
        "!pip install selenium"
      ],
      "metadata": {
        "colab": {
          "base_uri": "https://localhost:8080/"
        },
        "collapsed": true,
        "id": "ce899ejHBBsN",
        "outputId": "4f6dbfc9-9f00-4c33-c58c-4fb14ffa26c7"
      },
      "execution_count": null,
      "outputs": [
        {
          "output_type": "stream",
          "name": "stdout",
          "text": [
            "Collecting selenium\n",
            "  Downloading selenium-4.27.1-py3-none-any.whl.metadata (7.1 kB)\n",
            "Requirement already satisfied: urllib3<3,>=1.26 in /usr/local/lib/python3.10/dist-packages (from urllib3[socks]<3,>=1.26->selenium) (2.2.3)\n",
            "Collecting trio~=0.17 (from selenium)\n",
            "  Downloading trio-0.27.0-py3-none-any.whl.metadata (8.6 kB)\n",
            "Collecting trio-websocket~=0.9 (from selenium)\n",
            "  Downloading trio_websocket-0.11.1-py3-none-any.whl.metadata (4.7 kB)\n",
            "Requirement already satisfied: certifi>=2021.10.8 in /usr/local/lib/python3.10/dist-packages (from selenium) (2024.8.30)\n",
            "Requirement already satisfied: typing_extensions~=4.9 in /usr/local/lib/python3.10/dist-packages (from selenium) (4.12.2)\n",
            "Requirement already satisfied: websocket-client~=1.8 in /usr/local/lib/python3.10/dist-packages (from selenium) (1.8.0)\n",
            "Requirement already satisfied: attrs>=23.2.0 in /usr/local/lib/python3.10/dist-packages (from trio~=0.17->selenium) (24.2.0)\n",
            "Collecting sortedcontainers (from trio~=0.17->selenium)\n",
            "  Downloading sortedcontainers-2.4.0-py2.py3-none-any.whl.metadata (10 kB)\n",
            "Requirement already satisfied: idna in /usr/local/lib/python3.10/dist-packages (from trio~=0.17->selenium) (3.10)\n",
            "Collecting outcome (from trio~=0.17->selenium)\n",
            "  Downloading outcome-1.3.0.post0-py2.py3-none-any.whl.metadata (2.6 kB)\n",
            "Requirement already satisfied: sniffio>=1.3.0 in /usr/local/lib/python3.10/dist-packages (from trio~=0.17->selenium) (1.3.1)\n",
            "Requirement already satisfied: exceptiongroup in /usr/local/lib/python3.10/dist-packages (from trio~=0.17->selenium) (1.2.2)\n",
            "Collecting wsproto>=0.14 (from trio-websocket~=0.9->selenium)\n",
            "  Downloading wsproto-1.2.0-py3-none-any.whl.metadata (5.6 kB)\n",
            "Requirement already satisfied: pysocks!=1.5.7,<2.0,>=1.5.6 in /usr/local/lib/python3.10/dist-packages (from urllib3[socks]<3,>=1.26->selenium) (1.7.1)\n",
            "Requirement already satisfied: h11<1,>=0.9.0 in /usr/local/lib/python3.10/dist-packages (from wsproto>=0.14->trio-websocket~=0.9->selenium) (0.14.0)\n",
            "Downloading selenium-4.27.1-py3-none-any.whl (9.7 MB)\n",
            "\u001b[2K   \u001b[90m━━━━━━━━━━━━━━━━━━━━━━━━━━━━━━━━━━━━━━━━\u001b[0m \u001b[32m9.7/9.7 MB\u001b[0m \u001b[31m47.5 MB/s\u001b[0m eta \u001b[36m0:00:00\u001b[0m\n",
            "\u001b[?25hDownloading trio-0.27.0-py3-none-any.whl (481 kB)\n",
            "\u001b[2K   \u001b[90m━━━━━━━━━━━━━━━━━━━━━━━━━━━━━━━━━━━━━━━━\u001b[0m \u001b[32m481.7/481.7 kB\u001b[0m \u001b[31m27.8 MB/s\u001b[0m eta \u001b[36m0:00:00\u001b[0m\n",
            "\u001b[?25hDownloading trio_websocket-0.11.1-py3-none-any.whl (17 kB)\n",
            "Downloading wsproto-1.2.0-py3-none-any.whl (24 kB)\n",
            "Downloading outcome-1.3.0.post0-py2.py3-none-any.whl (10 kB)\n",
            "Downloading sortedcontainers-2.4.0-py2.py3-none-any.whl (29 kB)\n",
            "Installing collected packages: sortedcontainers, wsproto, outcome, trio, trio-websocket, selenium\n",
            "Successfully installed outcome-1.3.0.post0 selenium-4.27.1 sortedcontainers-2.4.0 trio-0.27.0 trio-websocket-0.11.1 wsproto-1.2.0\n"
          ]
        }
      ]
    },
    {
      "cell_type": "code",
      "source": [
        "from selenium import webdriver\n",
        "from selenium.webdriver.common.by import By\n",
        "from selenium.webdriver.common.keys import Keys\n",
        "from selenium.webdriver.chrome.service import Service\n",
        "from selenium.webdriver.support.ui import WebDriverWait\n",
        "from selenium.webdriver.support import expected_conditions as EC\n",
        "from selenium.common.exceptions import NoSuchElementException\n",
        "import time\n",
        "import json\n",
        "from langchain.tools import tool\n",
        "\n",
        "def fetch_attendance(username: str, password: str) -> dict:\n",
        "    \"\"\"\n",
        "    Logs into the Moodle using provided credentials and fetches attendance details using Selenium.\n",
        "    \"\"\"\n",
        "\n",
        "    try:\n",
        "\n",
        "\n",
        "        chrome_options = webdriver.ChromeOptions()\n",
        "        chrome_options.add_argument('--headless')  # Run Chrome in headless mode\n",
        "        chrome_options.add_argument('--no-sandbox')  # Bypass OS security model\n",
        "        chrome_options.add_argument('--disable-dev-shm-usage')  # Overcome limited resource problems\n",
        "\n",
        "        # Initialize WebDriver with Chrome options\n",
        "        driver = webdriver.Chrome(options=chrome_options)\n",
        "\n",
        "        driver.get(\"https://lms.sitpune.edu.in/login/index.php\")\n",
        "\n",
        "\n",
        "\n",
        "\n",
        "        username = driver.find_element(By.NAME, \"username\")\n",
        "\n",
        "        password = driver.find_element(By.NAME, \"password\")\n",
        "\n",
        "        username.send_keys(\"23070126007\")\n",
        "        password.send_keys(\"Nightwing@126789\")\n",
        "\n",
        "\n",
        "        password.send_keys(Keys.RETURN)\n",
        "\n",
        "        time.sleep(3)\n",
        "\n",
        "        # Navigate to the DPEL course page\n",
        "        driver.find_element(By.XPATH, \"//a[@href='https://lms.sitpune.edu.in/course/view.php?id=1246' and contains(@class, 'aalink') and contains(@class, 'coursename')]\").click()\n",
        "        time.sleep(3)\n",
        "\n",
        "        # Open the attendance activity\n",
        "        driver.find_element(By.CSS_SELECTOR, \"div.activitytitle.media.modtype_attendance\").click()\n",
        "        time.sleep(3)\n",
        "\n",
        "        # Navigate to 'All sessions'\n",
        "        driver.find_element(By.CSS_SELECTOR, \"a.nav-link[title='All sessions']\").click()\n",
        "        time.sleep(2)\n",
        "\n",
        "        # Open the attendance details page\n",
        "        try:\n",
        "            driver.find_element(By.CSS_SELECTOR, 'a[href=\"https://lms.sitpune.edu.in/mod/attendance/view.php?mode=2&id=6836&view=5\"]').click()\n",
        "        except NoSuchElementException:\n",
        "            print(\"Failed to find the attendance details link.\")\n",
        "            return {}\n",
        "\n",
        "        time.sleep(2)\n",
        "\n",
        "        # Fetch attendance data\n",
        "        totals = {}\n",
        "        totals_locator = (By.XPATH, \"//table[@class='generaltable table-bordered table-condensed']//tr\")\n",
        "        points_locator = (By.XPATH, \"//tr[@class='lastrow']//td\")\n",
        "\n",
        "        rows = driver.find_elements(*totals_locator)\n",
        "        for row in rows[1:]:\n",
        "            cells = row.find_elements(By.TAG_NAME, \"td\")\n",
        "            if len(cells) == 2:\n",
        "                key = cells[0].text.strip()\n",
        "                value = cells[1].text.strip()\n",
        "                totals[key] = value\n",
        "\n",
        "        points_text = driver.find_element(*points_locator).text.strip()\n",
        "        totals['Points'] = points_text\n",
        "\n",
        "        return totals\n",
        "\n",
        "    finally:\n",
        "        # Close the browser\n",
        "        driver.quit()\n",
        "\n",
        "\n",
        "# Usage example\n",
        "attendance_details = fetch_attendance(\"username\", \"password\")\n",
        "for key, value in attendance_details.items():\n",
        "    print(f\"{key}: {value}\")\n"
      ],
      "metadata": {
        "colab": {
          "base_uri": "https://localhost:8080/"
        },
        "id": "qJPQ1JITCvND",
        "outputId": "d5400295-6d04-49d6-fcb2-20dc73e6b075"
      },
      "execution_count": null,
      "outputs": [
        {
          "output_type": "stream",
          "name": "stdout",
          "text": [
            "Present:: 173\n",
            "Late:: 0\n",
            "Excused:: 0\n",
            "Absent:: 97\n",
            "Points: Points: 346/540 (64.1%) to date\n"
          ]
        }
      ]
    },
    {
      "cell_type": "code",
      "source": [],
      "metadata": {
        "id": "V3qOuFc8F2Jw"
      },
      "execution_count": null,
      "outputs": []
    }
  ]
}
